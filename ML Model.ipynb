{
  "nbformat": 4,
  "nbformat_minor": 0,
  "metadata": {
    "colab": {
      "provenance": []
    },
    "kernelspec": {
      "name": "python3",
      "display_name": "Python 3"
    },
    "language_info": {
      "name": "python"
    }
  },
  "cells": [
    {
      "cell_type": "code",
      "execution_count": 2,
      "metadata": {
        "id": "U9elSbOr3ZKA"
      },
      "outputs": [],
      "source": [
        "import tensorflow as tf\n",
        "from tensorflow.keras import layers\n",
        "import pandas as pd\n",
        "import matplotlib.pyplot as plt\n",
        "import numpy as np\n",
        "from tensorflow.keras import datasets, layers, models\n",
        "from tensorflow.keras.utils import to_categorical\n",
        "import seaborn as sns\n",
        "import matplotlib.pyplot as plt\n",
        "sns.set(style=\"white\", color_codes=True)"
      ]
    },
    {
      "cell_type": "code",
      "source": [
        "from google.colab import files\n",
        "uploaded = files.upload()"
      ],
      "metadata": {
        "colab": {
          "base_uri": "https://localhost:8080/",
          "height": 73
        },
        "id": "umj-Peh132ra",
        "outputId": "4c2ce51f-7aac-4e6b-8b53-f4570767eb52"
      },
      "execution_count": 3,
      "outputs": [
        {
          "output_type": "display_data",
          "data": {
            "text/plain": [
              "<IPython.core.display.HTML object>"
            ],
            "text/html": [
              "\n",
              "     <input type=\"file\" id=\"files-0f4642e8-dfbf-441c-9287-bdebec7ea4bb\" name=\"files[]\" multiple disabled\n",
              "        style=\"border:none\" />\n",
              "     <output id=\"result-0f4642e8-dfbf-441c-9287-bdebec7ea4bb\">\n",
              "      Upload widget is only available when the cell has been executed in the\n",
              "      current browser session. Please rerun this cell to enable.\n",
              "      </output>\n",
              "      <script>// Copyright 2017 Google LLC\n",
              "//\n",
              "// Licensed under the Apache License, Version 2.0 (the \"License\");\n",
              "// you may not use this file except in compliance with the License.\n",
              "// You may obtain a copy of the License at\n",
              "//\n",
              "//      http://www.apache.org/licenses/LICENSE-2.0\n",
              "//\n",
              "// Unless required by applicable law or agreed to in writing, software\n",
              "// distributed under the License is distributed on an \"AS IS\" BASIS,\n",
              "// WITHOUT WARRANTIES OR CONDITIONS OF ANY KIND, either express or implied.\n",
              "// See the License for the specific language governing permissions and\n",
              "// limitations under the License.\n",
              "\n",
              "/**\n",
              " * @fileoverview Helpers for google.colab Python module.\n",
              " */\n",
              "(function(scope) {\n",
              "function span(text, styleAttributes = {}) {\n",
              "  const element = document.createElement('span');\n",
              "  element.textContent = text;\n",
              "  for (const key of Object.keys(styleAttributes)) {\n",
              "    element.style[key] = styleAttributes[key];\n",
              "  }\n",
              "  return element;\n",
              "}\n",
              "\n",
              "// Max number of bytes which will be uploaded at a time.\n",
              "const MAX_PAYLOAD_SIZE = 100 * 1024;\n",
              "\n",
              "function _uploadFiles(inputId, outputId) {\n",
              "  const steps = uploadFilesStep(inputId, outputId);\n",
              "  const outputElement = document.getElementById(outputId);\n",
              "  // Cache steps on the outputElement to make it available for the next call\n",
              "  // to uploadFilesContinue from Python.\n",
              "  outputElement.steps = steps;\n",
              "\n",
              "  return _uploadFilesContinue(outputId);\n",
              "}\n",
              "\n",
              "// This is roughly an async generator (not supported in the browser yet),\n",
              "// where there are multiple asynchronous steps and the Python side is going\n",
              "// to poll for completion of each step.\n",
              "// This uses a Promise to block the python side on completion of each step,\n",
              "// then passes the result of the previous step as the input to the next step.\n",
              "function _uploadFilesContinue(outputId) {\n",
              "  const outputElement = document.getElementById(outputId);\n",
              "  const steps = outputElement.steps;\n",
              "\n",
              "  const next = steps.next(outputElement.lastPromiseValue);\n",
              "  return Promise.resolve(next.value.promise).then((value) => {\n",
              "    // Cache the last promise value to make it available to the next\n",
              "    // step of the generator.\n",
              "    outputElement.lastPromiseValue = value;\n",
              "    return next.value.response;\n",
              "  });\n",
              "}\n",
              "\n",
              "/**\n",
              " * Generator function which is called between each async step of the upload\n",
              " * process.\n",
              " * @param {string} inputId Element ID of the input file picker element.\n",
              " * @param {string} outputId Element ID of the output display.\n",
              " * @return {!Iterable<!Object>} Iterable of next steps.\n",
              " */\n",
              "function* uploadFilesStep(inputId, outputId) {\n",
              "  const inputElement = document.getElementById(inputId);\n",
              "  inputElement.disabled = false;\n",
              "\n",
              "  const outputElement = document.getElementById(outputId);\n",
              "  outputElement.innerHTML = '';\n",
              "\n",
              "  const pickedPromise = new Promise((resolve) => {\n",
              "    inputElement.addEventListener('change', (e) => {\n",
              "      resolve(e.target.files);\n",
              "    });\n",
              "  });\n",
              "\n",
              "  const cancel = document.createElement('button');\n",
              "  inputElement.parentElement.appendChild(cancel);\n",
              "  cancel.textContent = 'Cancel upload';\n",
              "  const cancelPromise = new Promise((resolve) => {\n",
              "    cancel.onclick = () => {\n",
              "      resolve(null);\n",
              "    };\n",
              "  });\n",
              "\n",
              "  // Wait for the user to pick the files.\n",
              "  const files = yield {\n",
              "    promise: Promise.race([pickedPromise, cancelPromise]),\n",
              "    response: {\n",
              "      action: 'starting',\n",
              "    }\n",
              "  };\n",
              "\n",
              "  cancel.remove();\n",
              "\n",
              "  // Disable the input element since further picks are not allowed.\n",
              "  inputElement.disabled = true;\n",
              "\n",
              "  if (!files) {\n",
              "    return {\n",
              "      response: {\n",
              "        action: 'complete',\n",
              "      }\n",
              "    };\n",
              "  }\n",
              "\n",
              "  for (const file of files) {\n",
              "    const li = document.createElement('li');\n",
              "    li.append(span(file.name, {fontWeight: 'bold'}));\n",
              "    li.append(span(\n",
              "        `(${file.type || 'n/a'}) - ${file.size} bytes, ` +\n",
              "        `last modified: ${\n",
              "            file.lastModifiedDate ? file.lastModifiedDate.toLocaleDateString() :\n",
              "                                    'n/a'} - `));\n",
              "    const percent = span('0% done');\n",
              "    li.appendChild(percent);\n",
              "\n",
              "    outputElement.appendChild(li);\n",
              "\n",
              "    const fileDataPromise = new Promise((resolve) => {\n",
              "      const reader = new FileReader();\n",
              "      reader.onload = (e) => {\n",
              "        resolve(e.target.result);\n",
              "      };\n",
              "      reader.readAsArrayBuffer(file);\n",
              "    });\n",
              "    // Wait for the data to be ready.\n",
              "    let fileData = yield {\n",
              "      promise: fileDataPromise,\n",
              "      response: {\n",
              "        action: 'continue',\n",
              "      }\n",
              "    };\n",
              "\n",
              "    // Use a chunked sending to avoid message size limits. See b/62115660.\n",
              "    let position = 0;\n",
              "    do {\n",
              "      const length = Math.min(fileData.byteLength - position, MAX_PAYLOAD_SIZE);\n",
              "      const chunk = new Uint8Array(fileData, position, length);\n",
              "      position += length;\n",
              "\n",
              "      const base64 = btoa(String.fromCharCode.apply(null, chunk));\n",
              "      yield {\n",
              "        response: {\n",
              "          action: 'append',\n",
              "          file: file.name,\n",
              "          data: base64,\n",
              "        },\n",
              "      };\n",
              "\n",
              "      let percentDone = fileData.byteLength === 0 ?\n",
              "          100 :\n",
              "          Math.round((position / fileData.byteLength) * 100);\n",
              "      percent.textContent = `${percentDone}% done`;\n",
              "\n",
              "    } while (position < fileData.byteLength);\n",
              "  }\n",
              "\n",
              "  // All done.\n",
              "  yield {\n",
              "    response: {\n",
              "      action: 'complete',\n",
              "    }\n",
              "  };\n",
              "}\n",
              "\n",
              "scope.google = scope.google || {};\n",
              "scope.google.colab = scope.google.colab || {};\n",
              "scope.google.colab._files = {\n",
              "  _uploadFiles,\n",
              "  _uploadFilesContinue,\n",
              "};\n",
              "})(self);\n",
              "</script> "
            ]
          },
          "metadata": {}
        },
        {
          "output_type": "stream",
          "name": "stdout",
          "text": [
            "Saving nilai_mapel.csv to nilai_mapel.csv\n"
          ]
        }
      ]
    },
    {
      "cell_type": "code",
      "source": [
        "import io\n",
        "df = pd.read_csv(io.BytesIO(uploaded['nilai_mapel.csv']))\n",
        "df.head()\n",
        "# Dataset is now stored in a Pandas Dataframe"
      ],
      "metadata": {
        "colab": {
          "base_uri": "https://localhost:8080/",
          "height": 206
        },
        "id": "CRbSrD944_SK",
        "outputId": "b25c315c-ad25-4f1b-9eaa-d7ec82802b7f"
      },
      "execution_count": 4,
      "outputs": [
        {
          "output_type": "execute_result",
          "data": {
            "text/plain": [
              "   Matematika  Bahasa Indonesia  IPA  IPS  Bahasa Inggris  Penjaskes  \\\n",
              "0          77                65   82   93              74         70   \n",
              "1          89                77   90   82              85         70   \n",
              "2          83                90   80   64              92         80   \n",
              "3          84                96   85   67              97         80   \n",
              "4          75                92   80   72              91         80   \n",
              "\n",
              "   Seni Budaya         OUTPUT  \n",
              "0           70  Interpersonal  \n",
              "1           77         Logika  \n",
              "2           70         Verbal  \n",
              "3           80         Verbal  \n",
              "4           82         Verbal  "
            ],
            "text/html": [
              "\n",
              "  <div id=\"df-38800c8a-bebc-4d9b-9fb2-6e14d5a72ac8\">\n",
              "    <div class=\"colab-df-container\">\n",
              "      <div>\n",
              "<style scoped>\n",
              "    .dataframe tbody tr th:only-of-type {\n",
              "        vertical-align: middle;\n",
              "    }\n",
              "\n",
              "    .dataframe tbody tr th {\n",
              "        vertical-align: top;\n",
              "    }\n",
              "\n",
              "    .dataframe thead th {\n",
              "        text-align: right;\n",
              "    }\n",
              "</style>\n",
              "<table border=\"1\" class=\"dataframe\">\n",
              "  <thead>\n",
              "    <tr style=\"text-align: right;\">\n",
              "      <th></th>\n",
              "      <th>Matematika</th>\n",
              "      <th>Bahasa Indonesia</th>\n",
              "      <th>IPA</th>\n",
              "      <th>IPS</th>\n",
              "      <th>Bahasa Inggris</th>\n",
              "      <th>Penjaskes</th>\n",
              "      <th>Seni Budaya</th>\n",
              "      <th>OUTPUT</th>\n",
              "    </tr>\n",
              "  </thead>\n",
              "  <tbody>\n",
              "    <tr>\n",
              "      <th>0</th>\n",
              "      <td>77</td>\n",
              "      <td>65</td>\n",
              "      <td>82</td>\n",
              "      <td>93</td>\n",
              "      <td>74</td>\n",
              "      <td>70</td>\n",
              "      <td>70</td>\n",
              "      <td>Interpersonal</td>\n",
              "    </tr>\n",
              "    <tr>\n",
              "      <th>1</th>\n",
              "      <td>89</td>\n",
              "      <td>77</td>\n",
              "      <td>90</td>\n",
              "      <td>82</td>\n",
              "      <td>85</td>\n",
              "      <td>70</td>\n",
              "      <td>77</td>\n",
              "      <td>Logika</td>\n",
              "    </tr>\n",
              "    <tr>\n",
              "      <th>2</th>\n",
              "      <td>83</td>\n",
              "      <td>90</td>\n",
              "      <td>80</td>\n",
              "      <td>64</td>\n",
              "      <td>92</td>\n",
              "      <td>80</td>\n",
              "      <td>70</td>\n",
              "      <td>Verbal</td>\n",
              "    </tr>\n",
              "    <tr>\n",
              "      <th>3</th>\n",
              "      <td>84</td>\n",
              "      <td>96</td>\n",
              "      <td>85</td>\n",
              "      <td>67</td>\n",
              "      <td>97</td>\n",
              "      <td>80</td>\n",
              "      <td>80</td>\n",
              "      <td>Verbal</td>\n",
              "    </tr>\n",
              "    <tr>\n",
              "      <th>4</th>\n",
              "      <td>75</td>\n",
              "      <td>92</td>\n",
              "      <td>80</td>\n",
              "      <td>72</td>\n",
              "      <td>91</td>\n",
              "      <td>80</td>\n",
              "      <td>82</td>\n",
              "      <td>Verbal</td>\n",
              "    </tr>\n",
              "  </tbody>\n",
              "</table>\n",
              "</div>\n",
              "      <button class=\"colab-df-convert\" onclick=\"convertToInteractive('df-38800c8a-bebc-4d9b-9fb2-6e14d5a72ac8')\"\n",
              "              title=\"Convert this dataframe to an interactive table.\"\n",
              "              style=\"display:none;\">\n",
              "        \n",
              "  <svg xmlns=\"http://www.w3.org/2000/svg\" height=\"24px\"viewBox=\"0 0 24 24\"\n",
              "       width=\"24px\">\n",
              "    <path d=\"M0 0h24v24H0V0z\" fill=\"none\"/>\n",
              "    <path d=\"M18.56 5.44l.94 2.06.94-2.06 2.06-.94-2.06-.94-.94-2.06-.94 2.06-2.06.94zm-11 1L8.5 8.5l.94-2.06 2.06-.94-2.06-.94L8.5 2.5l-.94 2.06-2.06.94zm10 10l.94 2.06.94-2.06 2.06-.94-2.06-.94-.94-2.06-.94 2.06-2.06.94z\"/><path d=\"M17.41 7.96l-1.37-1.37c-.4-.4-.92-.59-1.43-.59-.52 0-1.04.2-1.43.59L10.3 9.45l-7.72 7.72c-.78.78-.78 2.05 0 2.83L4 21.41c.39.39.9.59 1.41.59.51 0 1.02-.2 1.41-.59l7.78-7.78 2.81-2.81c.8-.78.8-2.07 0-2.86zM5.41 20L4 18.59l7.72-7.72 1.47 1.35L5.41 20z\"/>\n",
              "  </svg>\n",
              "      </button>\n",
              "      \n",
              "  <style>\n",
              "    .colab-df-container {\n",
              "      display:flex;\n",
              "      flex-wrap:wrap;\n",
              "      gap: 12px;\n",
              "    }\n",
              "\n",
              "    .colab-df-convert {\n",
              "      background-color: #E8F0FE;\n",
              "      border: none;\n",
              "      border-radius: 50%;\n",
              "      cursor: pointer;\n",
              "      display: none;\n",
              "      fill: #1967D2;\n",
              "      height: 32px;\n",
              "      padding: 0 0 0 0;\n",
              "      width: 32px;\n",
              "    }\n",
              "\n",
              "    .colab-df-convert:hover {\n",
              "      background-color: #E2EBFA;\n",
              "      box-shadow: 0px 1px 2px rgba(60, 64, 67, 0.3), 0px 1px 3px 1px rgba(60, 64, 67, 0.15);\n",
              "      fill: #174EA6;\n",
              "    }\n",
              "\n",
              "    [theme=dark] .colab-df-convert {\n",
              "      background-color: #3B4455;\n",
              "      fill: #D2E3FC;\n",
              "    }\n",
              "\n",
              "    [theme=dark] .colab-df-convert:hover {\n",
              "      background-color: #434B5C;\n",
              "      box-shadow: 0px 1px 3px 1px rgba(0, 0, 0, 0.15);\n",
              "      filter: drop-shadow(0px 1px 2px rgba(0, 0, 0, 0.3));\n",
              "      fill: #FFFFFF;\n",
              "    }\n",
              "  </style>\n",
              "\n",
              "      <script>\n",
              "        const buttonEl =\n",
              "          document.querySelector('#df-38800c8a-bebc-4d9b-9fb2-6e14d5a72ac8 button.colab-df-convert');\n",
              "        buttonEl.style.display =\n",
              "          google.colab.kernel.accessAllowed ? 'block' : 'none';\n",
              "\n",
              "        async function convertToInteractive(key) {\n",
              "          const element = document.querySelector('#df-38800c8a-bebc-4d9b-9fb2-6e14d5a72ac8');\n",
              "          const dataTable =\n",
              "            await google.colab.kernel.invokeFunction('convertToInteractive',\n",
              "                                                     [key], {});\n",
              "          if (!dataTable) return;\n",
              "\n",
              "          const docLinkHtml = 'Like what you see? Visit the ' +\n",
              "            '<a target=\"_blank\" href=https://colab.research.google.com/notebooks/data_table.ipynb>data table notebook</a>'\n",
              "            + ' to learn more about interactive tables.';\n",
              "          element.innerHTML = '';\n",
              "          dataTable['output_type'] = 'display_data';\n",
              "          await google.colab.output.renderOutput(dataTable, element);\n",
              "          const docLink = document.createElement('div');\n",
              "          docLink.innerHTML = docLinkHtml;\n",
              "          element.appendChild(docLink);\n",
              "        }\n",
              "      </script>\n",
              "    </div>\n",
              "  </div>\n",
              "  "
            ]
          },
          "metadata": {},
          "execution_count": 4
        }
      ]
    },
    {
      "cell_type": "code",
      "source": [
        "x = df.iloc[:,0:7].values\n",
        "y = df.iloc[:,7].values\n",
        "\n",
        "print(x[0:5])\n",
        "print(y[0:5])"
      ],
      "metadata": {
        "colab": {
          "base_uri": "https://localhost:8080/"
        },
        "id": "yg7NhCEgIPwA",
        "outputId": "2ea14966-df28-4341-f239-72135534b615"
      },
      "execution_count": 5,
      "outputs": [
        {
          "output_type": "stream",
          "name": "stdout",
          "text": [
            "[[77 65 82 93 74 70 70]\n",
            " [89 77 90 82 85 70 77]\n",
            " [83 90 80 64 92 80 70]\n",
            " [84 96 85 67 97 80 80]\n",
            " [75 92 80 72 91 80 82]]\n",
            "['Interpersonal' 'Logika' 'Verbal' 'Verbal' 'Verbal']\n"
          ]
        }
      ]
    },
    {
      "cell_type": "code",
      "source": [
        "#Check the number of rows in x and y\n",
        "print('The number of data in x:',len(x))\n",
        "print('The number of data in x:',len(y))"
      ],
      "metadata": {
        "colab": {
          "base_uri": "https://localhost:8080/"
        },
        "id": "vT6gdXdNvUfC",
        "outputId": "0ff600b7-2126-4e9d-d682-4372e00ef5e5"
      },
      "execution_count": 6,
      "outputs": [
        {
          "output_type": "stream",
          "name": "stdout",
          "text": [
            "The number of data in x: 100\n",
            "The number of data in x: 100\n"
          ]
        }
      ]
    },
    {
      "cell_type": "code",
      "source": [
        "print(x.shape)\n",
        "print(y.shape)\n",
        ""
      ],
      "metadata": {
        "colab": {
          "base_uri": "https://localhost:8080/"
        },
        "id": "gexG4h6okhmL",
        "outputId": "c0e39da7-28fb-4aaf-e99a-afb9843ef6ff"
      },
      "execution_count": 7,
      "outputs": [
        {
          "output_type": "stream",
          "name": "stdout",
          "text": [
            "(100, 7)\n",
            "(100,)\n"
          ]
        }
      ]
    },
    {
      "cell_type": "code",
      "source": [
        "sns.FacetGrid(df, hue=\"OUTPUT\", height=6).map(plt.scatter,\"Matematika\", \"IPA\").add_legend()"
      ],
      "metadata": {
        "colab": {
          "base_uri": "https://localhost:8080/",
          "height": 617
        },
        "id": "_WiCfAdFJ6fK",
        "outputId": "b2276202-b049-4259-b034-b5d23c6fcca3"
      },
      "execution_count": 8,
      "outputs": [
        {
          "output_type": "execute_result",
          "data": {
            "text/plain": [
              "<seaborn.axisgrid.FacetGrid at 0x7efbc3322f20>"
            ]
          },
          "metadata": {},
          "execution_count": 8
        },
        {
          "output_type": "display_data",
          "data": {
            "text/plain": [
              "<Figure size 757.25x600 with 1 Axes>"
            ],
            "image/png": "[encoded data removed]"
          },
          "metadata": {}
        }
      ]
    },
    {
      "cell_type": "code",
      "source": [
        "from sklearn.preprocessing import LabelEncoder\n",
        "encoder =  LabelEncoder()\n",
        "y1 = encoder.fit_transform(y)\n",
        ""
      ],
      "metadata": {
        "id": "J24pTqKikoer"
      },
      "execution_count": 9,
      "outputs": []
    },
    {
      "cell_type": "code",
      "source": [
        "print(y1)"
      ],
      "metadata": {
        "colab": {
          "base_uri": "https://localhost:8080/"
        },
        "id": "T7kXjZ4skyc9",
        "outputId": "622f02e1-fef2-411b-ee36-f79ebfa4bce4"
      },
      "execution_count": 10,
      "outputs": [
        {
          "output_type": "stream",
          "name": "stdout",
          "text": [
            "[0 2 5 5 5 3 0 1 2 4 1 5 0 2 2 5 4 5 1 0 5 0 3 3 2 0 0 1 1 3 3 2 3 5 2 2 1\n",
            " 5 2 5 4 0 1 4 0 3 5 3 1 4 5 3 4 5 3 4 0 1 2 4 1 5 5 5 1 0 5 4 3 5 0 1 0 5\n",
            " 5 0 3 5 2 0 2 0 5 4 3 1 2 0 3 0 5 5 5 1 2 5 4 4 3 5]\n"
          ]
        }
      ]
    },
    {
      "cell_type": "code",
      "source": [
        "y = pd.get_dummies(y1).values\n",
        "print(y[0:5])"
      ],
      "metadata": {
        "colab": {
          "base_uri": "https://localhost:8080/"
        },
        "id": "NImG1SIMk2mQ",
        "outputId": "8098013e-aff5-426e-a2d8-205b8a76f64d"
      },
      "execution_count": 11,
      "outputs": [
        {
          "output_type": "stream",
          "name": "stdout",
          "text": [
            "[[1 0 0 0 0 0]\n",
            " [0 0 1 0 0 0]\n",
            " [0 0 0 0 0 1]\n",
            " [0 0 0 0 0 1]\n",
            " [0 0 0 0 0 1]]\n"
          ]
        }
      ]
    },
    {
      "cell_type": "code",
      "source": [
        "from sklearn.model_selection import train_test_split"
      ],
      "metadata": {
        "id": "ZsILD-Wl93qE"
      },
      "execution_count": 12,
      "outputs": []
    },
    {
      "cell_type": "code",
      "source": [
        "#Split into training,  validation, adn test\n",
        "x_train, x_test, y_train, y_test = train_test_split(x,y, test_size=0.1765, random_state=42)\n",
        "print(x_train[0:5])"
      ],
      "metadata": {
        "colab": {
          "base_uri": "https://localhost:8080/"
        },
        "id": "fbCEzeW50cTW",
        "outputId": "1ec321c9-282d-41db-b164-291ee90aad60"
      },
      "execution_count": 13,
      "outputs": [
        {
          "output_type": "stream",
          "name": "stdout",
          "text": [
            "[[82 64 76 98 75 85 75]\n",
            " [90 66 89 77 60 79 79]\n",
            " [88 72 95 70 62 80 80]\n",
            " [85 80 84 75 81 80 95]\n",
            " [70 72 89 94 69 60 77]]\n"
          ]
        }
      ]
    },
    {
      "cell_type": "code",
      "source": [
        "x_train, x_val, y_train, y_val = train_test_split(x,y, test_size=0.2765, random_state=42)\n",
        "print(x_train[0:5])"
      ],
      "metadata": {
        "colab": {
          "base_uri": "https://localhost:8080/"
        },
        "id": "A4I5l9fi98Kt",
        "outputId": "75e62954-cfc0-46e0-98e0-2225194966c7"
      },
      "execution_count": 14,
      "outputs": [
        {
          "output_type": "stream",
          "name": "stdout",
          "text": [
            "[[76 71 98 67 70 60 70]\n",
            " [77 76 80 96 67 80 75]\n",
            " [80 93 83 70 90 75 70]\n",
            " [77 73 82 66 74 80 97]\n",
            " [82 81 77 83 74 90 85]]\n"
          ]
        }
      ]
    },
    {
      "cell_type": "code",
      "source": [
        "print(y_train[0:5])"
      ],
      "metadata": {
        "colab": {
          "base_uri": "https://localhost:8080/"
        },
        "id": "aF2Ymvvq-xsZ",
        "outputId": "af2a50c2-e9bc-4e28-ac1a-11c77a53a599"
      },
      "execution_count": 15,
      "outputs": [
        {
          "output_type": "stream",
          "name": "stdout",
          "text": [
            "[[0 0 0 0 1 0]\n",
            " [1 0 0 0 0 0]\n",
            " [0 0 0 0 0 1]\n",
            " [0 0 0 1 0 0]\n",
            " [0 1 0 0 0 0]]\n"
          ]
        }
      ]
    },
    {
      "cell_type": "code",
      "source": [
        "print(x_val[0:5])\n",
        "print(y_val[0:5])"
      ],
      "metadata": {
        "colab": {
          "base_uri": "https://localhost:8080/"
        },
        "id": "6UTvcxib-9Jy",
        "outputId": "8bd1e872-d98d-4095-e386-f35145d9c79e"
      },
      "execution_count": 16,
      "outputs": [
        {
          "output_type": "stream",
          "name": "stdout",
          "text": [
            "[[ 80  79 100  90  81  70  80]\n",
            " [ 81  96  83  80  97  70  80]\n",
            " [ 81  78  83  99  80  80  70]\n",
            " [ 80  77  80  63  70  80  90]\n",
            " [ 77  72  82 100  75  80  85]]\n",
            "[[0 0 0 0 1 0]\n",
            " [0 0 0 0 0 1]\n",
            " [1 0 0 0 0 0]\n",
            " [0 0 0 1 0 0]\n",
            " [1 0 0 0 0 0]]\n"
          ]
        }
      ]
    },
    {
      "cell_type": "code",
      "source": [
        "# Set the global random seed\n",
        "tf.random.set_seed(1234)"
      ],
      "metadata": {
        "id": "w_oBl8oGE0RI"
      },
      "execution_count": 17,
      "outputs": []
    },
    {
      "cell_type": "code",
      "source": [
        "model = tf.keras.Sequential([\n",
        "    tf.keras.layers.Dense(64, activation='relu'),\n",
        "    tf.keras.layers.Dense(32, activation='relu'),\n",
        "    tf.keras.layers.Dense(6, activation='softmax')\n",
        "  ])\n",
        "model"
      ],
      "metadata": {
        "colab": {
          "base_uri": "https://localhost:8080/"
        },
        "id": "zTCqkiem_CQ8",
        "outputId": "d2b5e49c-3989-4a4a-9a5a-032f2e50e962"
      },
      "execution_count": 18,
      "outputs": [
        {
          "output_type": "execute_result",
          "data": {
            "text/plain": [
              "<keras.engine.sequential.Sequential at 0x7efbc071d4b0>"
            ]
          },
          "metadata": {},
          "execution_count": 18
        }
      ]
    },
    {
      "cell_type": "code",
      "source": [
        "model.compile(optimizer='rmsprop',\n",
        "              loss='categorical_crossentropy',\n",
        "              metrics=['accuracy'])"
      ],
      "metadata": {
        "id": "grucEX-N_GDs"
      },
      "execution_count": 19,
      "outputs": []
    },
    {
      "cell_type": "code",
      "source": [
        "history = model.fit(x_train, y_train, epochs=100, validation_data=(x_val, y_val))\n"
      ],
      "metadata": {
        "colab": {
          "base_uri": "https://localhost:8080/"
        },
        "id": "SL4R6JSY_JjY",
        "outputId": "2edef3ca-9816-4daf-9ddf-b78361a982c6"
      },
      "execution_count": 20,
      "outputs": [
        {
          "output_type": "stream",
          "name": "stdout",
          "text": [
            "Epoch 1/100\n",
            "3/3 [==============================] - 1s 128ms/step - loss: 41.6392 - accuracy: 0.2083 - val_loss: 27.2062 - val_accuracy: 0.2500\n",
            "Epoch 2/100\n",
            "3/3 [==============================] - 0s 27ms/step - loss: 24.5394 - accuracy: 0.1667 - val_loss: 21.3509 - val_accuracy: 0.1786\n",
            "Epoch 3/100\n",
            "3/3 [==============================] - 0s 21ms/step - loss: 18.0595 - accuracy: 0.2361 - val_loss: 13.9929 - val_accuracy: 0.2500\n",
            "Epoch 4/100\n",
            "3/3 [==============================] - 0s 25ms/step - loss: 11.8924 - accuracy: 0.1944 - val_loss: 10.6887 - val_accuracy: 0.2143\n",
            "Epoch 5/100\n",
            "3/3 [==============================] - 0s 30ms/step - loss: 8.1842 - accuracy: 0.3194 - val_loss: 7.1278 - val_accuracy: 0.3214\n",
            "Epoch 6/100\n",
            "3/3 [==============================] - 0s 31ms/step - loss: 5.5063 - accuracy: 0.3472 - val_loss: 5.5210 - val_accuracy: 0.2857\n",
            "Epoch 7/100\n",
            "3/3 [==============================] - 0s 32ms/step - loss: 4.6005 - accuracy: 0.3333 - val_loss: 3.2837 - val_accuracy: 0.2143\n",
            "Epoch 8/100\n",
            "3/3 [==============================] - 0s 28ms/step - loss: 2.6406 - accuracy: 0.2778 - val_loss: 1.9458 - val_accuracy: 0.4643\n",
            "Epoch 9/100\n",
            "3/3 [==============================] - 0s 33ms/step - loss: 2.5269 - accuracy: 0.4028 - val_loss: 1.5468 - val_accuracy: 0.5714\n",
            "Epoch 10/100\n",
            "3/3 [==============================] - 0s 32ms/step - loss: 1.4566 - accuracy: 0.5833 - val_loss: 1.6359 - val_accuracy: 0.5357\n",
            "Epoch 11/100\n",
            "3/3 [==============================] - 0s 25ms/step - loss: 1.6061 - accuracy: 0.5417 - val_loss: 4.8305 - val_accuracy: 0.2143\n",
            "Epoch 12/100\n",
            "3/3 [==============================] - 0s 36ms/step - loss: 2.5603 - accuracy: 0.5694 - val_loss: 1.6179 - val_accuracy: 0.5357\n",
            "Epoch 13/100\n",
            "3/3 [==============================] - 0s 39ms/step - loss: 1.2897 - accuracy: 0.5139 - val_loss: 1.0307 - val_accuracy: 0.6429\n",
            "Epoch 14/100\n",
            "3/3 [==============================] - 0s 35ms/step - loss: 1.1807 - accuracy: 0.6667 - val_loss: 1.1009 - val_accuracy: 0.6071\n",
            "Epoch 15/100\n",
            "3/3 [==============================] - 0s 34ms/step - loss: 1.1969 - accuracy: 0.6389 - val_loss: 1.9192 - val_accuracy: 0.4643\n",
            "Epoch 16/100\n",
            "3/3 [==============================] - 0s 33ms/step - loss: 1.6552 - accuracy: 0.5833 - val_loss: 3.8258 - val_accuracy: 0.2143\n",
            "Epoch 17/100\n",
            "3/3 [==============================] - 0s 34ms/step - loss: 2.2588 - accuracy: 0.5278 - val_loss: 1.4874 - val_accuracy: 0.6429\n",
            "Epoch 18/100\n",
            "3/3 [==============================] - 0s 33ms/step - loss: 0.9974 - accuracy: 0.6806 - val_loss: 1.2027 - val_accuracy: 0.6429\n",
            "Epoch 19/100\n",
            "3/3 [==============================] - 0s 24ms/step - loss: 1.0438 - accuracy: 0.6667 - val_loss: 0.9955 - val_accuracy: 0.6429\n",
            "Epoch 20/100\n",
            "3/3 [==============================] - 0s 25ms/step - loss: 1.3394 - accuracy: 0.5694 - val_loss: 1.0199 - val_accuracy: 0.7143\n",
            "Epoch 21/100\n",
            "3/3 [==============================] - 0s 30ms/step - loss: 1.1724 - accuracy: 0.6806 - val_loss: 1.0449 - val_accuracy: 0.5714\n",
            "Epoch 22/100\n",
            "3/3 [==============================] - 0s 29ms/step - loss: 0.8895 - accuracy: 0.6944 - val_loss: 2.0911 - val_accuracy: 0.5357\n",
            "Epoch 23/100\n",
            "3/3 [==============================] - 0s 35ms/step - loss: 0.9743 - accuracy: 0.7222 - val_loss: 0.7909 - val_accuracy: 0.7857\n",
            "Epoch 24/100\n",
            "3/3 [==============================] - 0s 24ms/step - loss: 1.1246 - accuracy: 0.6250 - val_loss: 1.1922 - val_accuracy: 0.6071\n",
            "Epoch 25/100\n",
            "3/3 [==============================] - 0s 23ms/step - loss: 0.9563 - accuracy: 0.7222 - val_loss: 0.7826 - val_accuracy: 0.7143\n",
            "Epoch 26/100\n",
            "3/3 [==============================] - 0s 25ms/step - loss: 0.8897 - accuracy: 0.7361 - val_loss: 1.1020 - val_accuracy: 0.6786\n",
            "Epoch 27/100\n",
            "3/3 [==============================] - 0s 33ms/step - loss: 1.2898 - accuracy: 0.6806 - val_loss: 0.5004 - val_accuracy: 0.7500\n",
            "Epoch 28/100\n",
            "3/3 [==============================] - 0s 26ms/step - loss: 0.6243 - accuracy: 0.8194 - val_loss: 2.3569 - val_accuracy: 0.3929\n",
            "Epoch 29/100\n",
            "3/3 [==============================] - 0s 24ms/step - loss: 1.4821 - accuracy: 0.5972 - val_loss: 0.6874 - val_accuracy: 0.7500\n",
            "Epoch 30/100\n",
            "3/3 [==============================] - 0s 32ms/step - loss: 0.4697 - accuracy: 0.8194 - val_loss: 0.4576 - val_accuracy: 0.8214\n",
            "Epoch 31/100\n",
            "3/3 [==============================] - 0s 24ms/step - loss: 0.9206 - accuracy: 0.7222 - val_loss: 1.1031 - val_accuracy: 0.6786\n",
            "Epoch 32/100\n",
            "3/3 [==============================] - 0s 23ms/step - loss: 0.7237 - accuracy: 0.8333 - val_loss: 0.6149 - val_accuracy: 0.7143\n",
            "Epoch 33/100\n",
            "3/3 [==============================] - 0s 24ms/step - loss: 0.8025 - accuracy: 0.7639 - val_loss: 0.7025 - val_accuracy: 0.6786\n",
            "Epoch 34/100\n",
            "3/3 [==============================] - 0s 31ms/step - loss: 0.9295 - accuracy: 0.7500 - val_loss: 0.5380 - val_accuracy: 0.7857\n",
            "Epoch 35/100\n",
            "3/3 [==============================] - 0s 35ms/step - loss: 0.4367 - accuracy: 0.8750 - val_loss: 0.7487 - val_accuracy: 0.7857\n",
            "Epoch 36/100\n",
            "3/3 [==============================] - 0s 34ms/step - loss: 0.3701 - accuracy: 0.9028 - val_loss: 1.6103 - val_accuracy: 0.6071\n",
            "Epoch 37/100\n",
            "3/3 [==============================] - 0s 26ms/step - loss: 1.1146 - accuracy: 0.6944 - val_loss: 0.7561 - val_accuracy: 0.7857\n",
            "Epoch 38/100\n",
            "3/3 [==============================] - 0s 35ms/step - loss: 1.2538 - accuracy: 0.6944 - val_loss: 0.4537 - val_accuracy: 0.7857\n",
            "Epoch 39/100\n",
            "3/3 [==============================] - 0s 24ms/step - loss: 0.5442 - accuracy: 0.7778 - val_loss: 0.7952 - val_accuracy: 0.7143\n",
            "Epoch 40/100\n",
            "3/3 [==============================] - 0s 33ms/step - loss: 1.0155 - accuracy: 0.7222 - val_loss: 0.7257 - val_accuracy: 0.7857\n",
            "Epoch 41/100\n",
            "3/3 [==============================] - 0s 33ms/step - loss: 1.2336 - accuracy: 0.7222 - val_loss: 0.7312 - val_accuracy: 0.7857\n",
            "Epoch 42/100\n",
            "3/3 [==============================] - 0s 33ms/step - loss: 0.9911 - accuracy: 0.6667 - val_loss: 0.6717 - val_accuracy: 0.7857\n",
            "Epoch 43/100\n",
            "3/3 [==============================] - 0s 32ms/step - loss: 0.4289 - accuracy: 0.8194 - val_loss: 3.2923 - val_accuracy: 0.3571\n",
            "Epoch 44/100\n",
            "3/3 [==============================] - 0s 29ms/step - loss: 1.5772 - accuracy: 0.5833 - val_loss: 0.3540 - val_accuracy: 0.8571\n",
            "Epoch 45/100\n",
            "3/3 [==============================] - 0s 30ms/step - loss: 0.2424 - accuracy: 0.9444 - val_loss: 0.4326 - val_accuracy: 0.8571\n",
            "Epoch 46/100\n",
            "3/3 [==============================] - 0s 18ms/step - loss: 0.2610 - accuracy: 0.9167 - val_loss: 0.4701 - val_accuracy: 0.8214\n",
            "Epoch 47/100\n",
            "3/3 [==============================] - 0s 18ms/step - loss: 0.3592 - accuracy: 0.9167 - val_loss: 0.3628 - val_accuracy: 0.8571\n",
            "Epoch 48/100\n",
            "3/3 [==============================] - 0s 17ms/step - loss: 0.2337 - accuracy: 0.9306 - val_loss: 1.4942 - val_accuracy: 0.5000\n",
            "Epoch 49/100\n",
            "3/3 [==============================] - 0s 17ms/step - loss: 0.7554 - accuracy: 0.7500 - val_loss: 0.6623 - val_accuracy: 0.7857\n",
            "Epoch 50/100\n",
            "3/3 [==============================] - 0s 20ms/step - loss: 0.9751 - accuracy: 0.7639 - val_loss: 0.5846 - val_accuracy: 0.8571\n",
            "Epoch 51/100\n",
            "3/3 [==============================] - 0s 26ms/step - loss: 0.3691 - accuracy: 0.8472 - val_loss: 0.6288 - val_accuracy: 0.8571\n",
            "Epoch 52/100\n",
            "3/3 [==============================] - 0s 21ms/step - loss: 0.7656 - accuracy: 0.8472 - val_loss: 1.1679 - val_accuracy: 0.7143\n",
            "Epoch 53/100\n",
            "3/3 [==============================] - 0s 17ms/step - loss: 1.3681 - accuracy: 0.6389 - val_loss: 0.5418 - val_accuracy: 0.7857\n",
            "Epoch 54/100\n",
            "3/3 [==============================] - 0s 20ms/step - loss: 0.3109 - accuracy: 0.8889 - val_loss: 0.5396 - val_accuracy: 0.8571\n",
            "Epoch 55/100\n",
            "3/3 [==============================] - 0s 29ms/step - loss: 0.2223 - accuracy: 0.9167 - val_loss: 2.2290 - val_accuracy: 0.5357\n",
            "Epoch 56/100\n",
            "3/3 [==============================] - 0s 21ms/step - loss: 1.2201 - accuracy: 0.6250 - val_loss: 0.5944 - val_accuracy: 0.7500\n",
            "Epoch 57/100\n",
            "3/3 [==============================] - 0s 17ms/step - loss: 0.3795 - accuracy: 0.8611 - val_loss: 2.5332 - val_accuracy: 0.3929\n",
            "Epoch 58/100\n",
            "3/3 [==============================] - 0s 17ms/step - loss: 1.3886 - accuracy: 0.6111 - val_loss: 0.2342 - val_accuracy: 0.9286\n",
            "Epoch 59/100\n",
            "3/3 [==============================] - 0s 17ms/step - loss: 0.2303 - accuracy: 0.9444 - val_loss: 0.3791 - val_accuracy: 0.8214\n",
            "Epoch 60/100\n",
            "3/3 [==============================] - 0s 26ms/step - loss: 0.1892 - accuracy: 0.9444 - val_loss: 0.2451 - val_accuracy: 0.8929\n",
            "Epoch 61/100\n",
            "3/3 [==============================] - 0s 22ms/step - loss: 0.1572 - accuracy: 0.9583 - val_loss: 0.5212 - val_accuracy: 0.8571\n",
            "Epoch 62/100\n",
            "3/3 [==============================] - 0s 17ms/step - loss: 0.1404 - accuracy: 0.9444 - val_loss: 0.2535 - val_accuracy: 0.9286\n",
            "Epoch 63/100\n",
            "3/3 [==============================] - 0s 18ms/step - loss: 0.5500 - accuracy: 0.8750 - val_loss: 0.2317 - val_accuracy: 0.8929\n",
            "Epoch 64/100\n",
            "3/3 [==============================] - 0s 18ms/step - loss: 0.2172 - accuracy: 0.9583 - val_loss: 0.2005 - val_accuracy: 0.8929\n",
            "Epoch 65/100\n",
            "3/3 [==============================] - 0s 18ms/step - loss: 0.2195 - accuracy: 0.9444 - val_loss: 0.9696 - val_accuracy: 0.7857\n",
            "Epoch 66/100\n",
            "3/3 [==============================] - 0s 18ms/step - loss: 0.5529 - accuracy: 0.8194 - val_loss: 1.2930 - val_accuracy: 0.6429\n",
            "Epoch 67/100\n",
            "3/3 [==============================] - 0s 19ms/step - loss: 1.1930 - accuracy: 0.6944 - val_loss: 0.5322 - val_accuracy: 0.8214\n",
            "Epoch 68/100\n",
            "3/3 [==============================] - 0s 18ms/step - loss: 0.3566 - accuracy: 0.8611 - val_loss: 0.2152 - val_accuracy: 0.8929\n",
            "Epoch 69/100\n",
            "3/3 [==============================] - 0s 28ms/step - loss: 0.2653 - accuracy: 0.8750 - val_loss: 0.1994 - val_accuracy: 0.9286\n",
            "Epoch 70/100\n",
            "3/3 [==============================] - 0s 27ms/step - loss: 0.1548 - accuracy: 0.9583 - val_loss: 0.2255 - val_accuracy: 0.9643\n",
            "Epoch 71/100\n",
            "3/3 [==============================] - 0s 21ms/step - loss: 0.4985 - accuracy: 0.8333 - val_loss: 1.1599 - val_accuracy: 0.7143\n",
            "Epoch 72/100\n",
            "3/3 [==============================] - 0s 18ms/step - loss: 0.4009 - accuracy: 0.8611 - val_loss: 0.2664 - val_accuracy: 0.8571\n",
            "Epoch 73/100\n",
            "3/3 [==============================] - 0s 21ms/step - loss: 0.5346 - accuracy: 0.8194 - val_loss: 0.5989 - val_accuracy: 0.8214\n",
            "Epoch 74/100\n",
            "3/3 [==============================] - 0s 18ms/step - loss: 0.1629 - accuracy: 0.9583 - val_loss: 0.1612 - val_accuracy: 0.9643\n",
            "Epoch 75/100\n",
            "3/3 [==============================] - 0s 27ms/step - loss: 0.5091 - accuracy: 0.8333 - val_loss: 0.6049 - val_accuracy: 0.7500\n",
            "Epoch 76/100\n",
            "3/3 [==============================] - 0s 18ms/step - loss: 0.7603 - accuracy: 0.7500 - val_loss: 0.1903 - val_accuracy: 0.8929\n",
            "Epoch 77/100\n",
            "3/3 [==============================] - 0s 18ms/step - loss: 0.4418 - accuracy: 0.8194 - val_loss: 1.3828 - val_accuracy: 0.6071\n",
            "Epoch 78/100\n",
            "3/3 [==============================] - 0s 19ms/step - loss: 0.8554 - accuracy: 0.7222 - val_loss: 0.3051 - val_accuracy: 0.8929\n",
            "Epoch 79/100\n",
            "3/3 [==============================] - 0s 18ms/step - loss: 0.1410 - accuracy: 0.9444 - val_loss: 0.4045 - val_accuracy: 0.8214\n",
            "Epoch 80/100\n",
            "3/3 [==============================] - 0s 17ms/step - loss: 0.1788 - accuracy: 0.9444 - val_loss: 0.5976 - val_accuracy: 0.7857\n",
            "Epoch 81/100\n",
            "3/3 [==============================] - 0s 32ms/step - loss: 0.1668 - accuracy: 0.9444 - val_loss: 0.6218 - val_accuracy: 0.8929\n",
            "Epoch 82/100\n",
            "3/3 [==============================] - 0s 19ms/step - loss: 0.7839 - accuracy: 0.8472 - val_loss: 0.8391 - val_accuracy: 0.6786\n",
            "Epoch 83/100\n",
            "3/3 [==============================] - 0s 19ms/step - loss: 0.2071 - accuracy: 0.9306 - val_loss: 0.1434 - val_accuracy: 0.9286\n",
            "Epoch 84/100\n",
            "3/3 [==============================] - 0s 18ms/step - loss: 0.1836 - accuracy: 0.9583 - val_loss: 0.2252 - val_accuracy: 0.9286\n",
            "Epoch 85/100\n",
            "3/3 [==============================] - 0s 18ms/step - loss: 0.1137 - accuracy: 0.9722 - val_loss: 0.2438 - val_accuracy: 0.9286\n",
            "Epoch 86/100\n",
            "3/3 [==============================] - 0s 18ms/step - loss: 0.0910 - accuracy: 0.9722 - val_loss: 0.4063 - val_accuracy: 0.8214\n",
            "Epoch 87/100\n",
            "3/3 [==============================] - 0s 18ms/step - loss: 0.1389 - accuracy: 0.9722 - val_loss: 0.2632 - val_accuracy: 0.8929\n",
            "Epoch 88/100\n",
            "3/3 [==============================] - 0s 18ms/step - loss: 0.4380 - accuracy: 0.8889 - val_loss: 4.1423 - val_accuracy: 0.2143\n",
            "Epoch 89/100\n",
            "3/3 [==============================] - 0s 18ms/step - loss: 2.2381 - accuracy: 0.5417 - val_loss: 0.1645 - val_accuracy: 0.9286\n",
            "Epoch 90/100\n",
            "3/3 [==============================] - 0s 18ms/step - loss: 0.1433 - accuracy: 0.9583 - val_loss: 0.3683 - val_accuracy: 0.8571\n",
            "Epoch 91/100\n",
            "3/3 [==============================] - 0s 19ms/step - loss: 0.1082 - accuracy: 0.9583 - val_loss: 0.1365 - val_accuracy: 0.9643\n",
            "Epoch 92/100\n",
            "3/3 [==============================] - 0s 18ms/step - loss: 0.0851 - accuracy: 0.9861 - val_loss: 0.7765 - val_accuracy: 0.7857\n",
            "Epoch 93/100\n",
            "3/3 [==============================] - 0s 18ms/step - loss: 0.1332 - accuracy: 0.9306 - val_loss: 1.0645 - val_accuracy: 0.7857\n",
            "Epoch 94/100\n",
            "3/3 [==============================] - 0s 29ms/step - loss: 0.3492 - accuracy: 0.8611 - val_loss: 0.2630 - val_accuracy: 0.8571\n",
            "Epoch 95/100\n",
            "3/3 [==============================] - 0s 18ms/step - loss: 0.1217 - accuracy: 0.9583 - val_loss: 0.5785 - val_accuracy: 0.8214\n",
            "Epoch 96/100\n",
            "3/3 [==============================] - 0s 18ms/step - loss: 0.2543 - accuracy: 0.9167 - val_loss: 0.2269 - val_accuracy: 0.9286\n",
            "Epoch 97/100\n",
            "3/3 [==============================] - 0s 18ms/step - loss: 0.3965 - accuracy: 0.8611 - val_loss: 1.0730 - val_accuracy: 0.6429\n",
            "Epoch 98/100\n",
            "3/3 [==============================] - 0s 19ms/step - loss: 0.5486 - accuracy: 0.8056 - val_loss: 0.3650 - val_accuracy: 0.8571\n",
            "Epoch 99/100\n",
            "3/3 [==============================] - 0s 27ms/step - loss: 0.0881 - accuracy: 0.9722 - val_loss: 0.1523 - val_accuracy: 0.9643\n",
            "Epoch 100/100\n",
            "3/3 [==============================] - 0s 18ms/step - loss: 0.0692 - accuracy: 0.9861 - val_loss: 0.1612 - val_accuracy: 0.9643\n"
          ]
        }
      ]
    },
    {
      "cell_type": "code",
      "source": [
        "model.summary()"
      ],
      "metadata": {
        "colab": {
          "base_uri": "https://localhost:8080/"
        },
        "id": "FgRScs8fQYga",
        "outputId": "c0ca76d1-e4f6-441a-c3ab-827458a8908b"
      },
      "execution_count": 21,
      "outputs": [
        {
          "output_type": "stream",
          "name": "stdout",
          "text": [
            "Model: \"sequential\"\n",
            "_________________________________________________________________\n",
            " Layer (type)                Output Shape              Param #   \n",
            "=================================================================\n",
            " dense (Dense)               (None, 64)                512       \n",
            "                                                                 \n",
            " dense_1 (Dense)             (None, 32)                2080      \n",
            "                                                                 \n",
            " dense_2 (Dense)             (None, 6)                 198       \n",
            "                                                                 \n",
            "=================================================================\n",
            "Total params: 2,790\n",
            "Trainable params: 2,790\n",
            "Non-trainable params: 0\n",
            "_________________________________________________________________\n"
          ]
        }
      ]
    },
    {
      "cell_type": "code",
      "source": [
        "loss, accuracy = model.evaluate(x_val, y_val, verbose=0)\n",
        "print('Test loss:', loss)\n",
        "print('Test accuracy:', accuracy)"
      ],
      "metadata": {
        "colab": {
          "base_uri": "https://localhost:8080/"
        },
        "id": "y15TajWBPKYk",
        "outputId": "aa6bbdc0-bee8-469c-b173-2880bffb546f"
      },
      "execution_count": 22,
      "outputs": [
        {
          "output_type": "stream",
          "name": "stdout",
          "text": [
            "Test loss: 0.16120223701000214\n",
            "Test accuracy: 0.9642857313156128\n"
          ]
        }
      ]
    },
    {
      "cell_type": "code",
      "source": [
        "# Mendapatkan riwayat training_loss\n",
        "train_loss = history.history['loss']"
      ],
      "metadata": {
        "id": "NcqWLsKuYEzl"
      },
      "execution_count": 23,
      "outputs": []
    },
    {
      "cell_type": "code",
      "source": [
        "# Mendapatkan riwayat validation_loss\n",
        "val_loss = history.history['val_loss']"
      ],
      "metadata": {
        "id": "WiHIDgUpYjH5"
      },
      "execution_count": 24,
      "outputs": []
    },
    {
      "cell_type": "code",
      "source": [
        "# Plot the chart for accuracy and loss on both training and validation\n",
        "acc = history.history['accuracy']\n",
        "val_acc = history.history['val_accuracy']\n",
        "loss = history.history['loss']\n",
        "val_loss = history.history['val_loss']\n",
        "\n",
        "epochs = range(len(acc))\n",
        "\n",
        "plt.plot(epochs, acc, 'r', label='Training accuracy')\n",
        "plt.plot(epochs, val_acc, 'b', label='Validation accuracy')\n",
        "plt.title('Training and validation accuracy')\n",
        "plt.legend()\n",
        "plt.figure()\n",
        "\n",
        "plt.plot(epochs, loss, 'r', label='Training Loss')\n",
        "plt.plot(epochs, val_loss, 'b', label='Validation Loss')\n",
        "plt.title('Training and validation loss')\n",
        "plt.legend()\n",
        "\n",
        "plt.show()"
      ],
      "metadata": {
        "colab": {
          "base_uri": "https://localhost:8080/",
          "height": 897
        },
        "id": "Pp3PZN7wfe1n",
        "outputId": "56c914cb-080b-4d7d-9a20-6821d77d2ae4"
      },
      "execution_count": 25,
      "outputs": [
        {
          "output_type": "display_data",
          "data": {
            "text/plain": [
              "<Figure size 640x480 with 1 Axes>"
            ],
            "image/png": "[encoded data removed]"
          },
          "metadata": {}
        },
        {
          "output_type": "display_data",
          "data": {
            "text/plain": [
              "<Figure size 640x480 with 1 Axes>"
            ],
            "image/png": "[encoded data removed]"
          },
          "metadata": {}
        }
      ]
    },
    {
      "cell_type": "code",
      "source": [
        "y_pred = model.predict(x_val)\n",
        "y_pred"
      ],
      "metadata": {
        "colab": {
          "base_uri": "https://localhost:8080/"
        },
        "id": "LHxv75oRPQMp",
        "outputId": "b29c1b1d-4b07-4a10-ae1e-ac6c4f256d07"
      },
      "execution_count": 26,
      "outputs": [
        {
          "output_type": "stream",
          "name": "stdout",
          "text": [
            "1/1 [==============================] - 0s 95ms/step\n"
          ]
        },
        {
          "output_type": "execute_result",
          "data": {
            "text/plain": [
              "array([[1.02412343e-01, 4.06955508e-07, 5.09177102e-04, 1.93556232e-04,\n",
              "        8.96376669e-01, 5.07886114e-04],\n",
              "       [7.86181699e-05, 7.18449314e-07, 7.95516098e-06, 6.15557889e-04,\n",
              "        3.74179031e-03, 9.95555222e-01],\n",
              "       [9.93954062e-01, 1.55049594e-04, 1.14206150e-05, 4.14550698e-07,\n",
              "        5.77171519e-03, 1.07506901e-04],\n",
              "       [7.13587315e-06, 1.14839501e-03, 2.61759506e-05, 9.19606209e-01,\n",
              "        7.86784515e-02, 5.33668906e-04],\n",
              "       [9.69907820e-01, 6.99685115e-05, 7.49678804e-07, 1.59147166e-04,\n",
              "        2.98442524e-02, 1.82778786e-05],\n",
              "       [6.09550113e-07, 3.62173455e-06, 7.55115423e-07, 1.72418868e-03,\n",
              "        4.27255291e-04, 9.97843504e-01],\n",
              "       [1.51177635e-03, 2.82298447e-06, 2.45993779e-05, 8.28549147e-01,\n",
              "        1.55547395e-01, 1.43642789e-02],\n",
              "       [1.10302517e-05, 4.66437268e-06, 8.85411441e-01, 1.74312852e-02,\n",
              "        9.71410424e-02, 5.30491150e-07],\n",
              "       [1.82291988e-04, 9.12909806e-01, 1.39500185e-06, 1.61612704e-02,\n",
              "        7.05651566e-02, 1.79986702e-04],\n",
              "       [9.24320757e-01, 6.59941497e-06, 7.80173068e-05, 1.61536555e-05,\n",
              "        7.54866004e-02, 9.17855577e-05],\n",
              "       [1.54272479e-04, 9.95402873e-01, 5.00615624e-06, 6.19780792e-07,\n",
              "        4.43729293e-03, 1.26583899e-08],\n",
              "       [9.14734497e-04, 8.70753138e-04, 2.32313454e-04, 5.92956364e-01,\n",
              "        4.05007958e-01, 1.78498485e-05],\n",
              "       [2.00451159e-05, 4.44330974e-04, 3.00305226e-04, 1.82919914e-03,\n",
              "        1.21959578e-02, 9.85210121e-01],\n",
              "       [5.88989406e-06, 1.71893987e-06, 2.23760344e-06, 6.04026252e-04,\n",
              "        1.45066227e-03, 9.97935474e-01],\n",
              "       [1.16223682e-05, 5.74659964e-07, 1.40545865e-06, 1.90121747e-04,\n",
              "        1.16068067e-03, 9.98635590e-01],\n",
              "       [3.19760911e-05, 2.32693343e-03, 1.97155418e-06, 1.48901660e-02,\n",
              "        1.01009542e-02, 9.72648025e-01],\n",
              "       [4.01247888e-07, 1.26672303e-05, 1.81152723e-06, 9.82190311e-01,\n",
              "        1.77919380e-02, 2.96808548e-06],\n",
              "       [1.04817623e-07, 2.75898947e-05, 9.64325409e-07, 4.64248508e-02,\n",
              "        3.25451023e-03, 9.50291812e-01],\n",
              "       [9.80966449e-01, 2.06630351e-03, 5.01995419e-06, 2.33351057e-05,\n",
              "        1.68936942e-02, 4.51630040e-05],\n",
              "       [3.05961631e-03, 9.58515229e-05, 6.85329363e-02, 2.76772305e-03,\n",
              "        9.25533593e-01, 1.02807926e-05],\n",
              "       [1.71579959e-04, 1.38201547e-04, 3.52428406e-02, 3.13447765e-03,\n",
              "        9.61300373e-01, 1.24892613e-05],\n",
              "       [3.88439330e-05, 9.43095511e-05, 3.04726145e-05, 8.78949463e-01,\n",
              "        1.14754044e-01, 6.13286719e-03],\n",
              "       [8.93491030e-01, 2.77654681e-08, 1.95688917e-05, 2.34848630e-05,\n",
              "        1.06461614e-01, 4.30738146e-06],\n",
              "       [2.89455602e-05, 9.99762058e-01, 3.78192189e-09, 2.67544929e-05,\n",
              "        1.79679511e-04, 2.59793774e-06],\n",
              "       [7.05274940e-03, 2.18851324e-06, 3.71246220e-04, 1.39868422e-03,\n",
              "        3.95617560e-02, 9.51613367e-01],\n",
              "       [6.62257429e-03, 2.47247680e-03, 1.30955068e-05, 3.32451978e-04,\n",
              "        1.61230955e-02, 9.74436283e-01],\n",
              "       [1.03694368e-02, 2.80541950e-04, 1.45445915e-03, 5.29652368e-03,\n",
              "        9.75768864e-01, 6.83010696e-03],\n",
              "       [2.06198256e-05, 1.68890459e-03, 1.29335083e-03, 1.80820581e-02,\n",
              "        9.28361833e-01, 5.05532324e-02]], dtype=float32)"
            ]
          },
          "metadata": {},
          "execution_count": 26
        }
      ]
    },
    {
      "cell_type": "code",
      "source": [
        "actual = np.argmax(y_val,axis=1)\n",
        "predicted = np.argmax(y_pred,axis=1)\n",
        "print(f\"Actual: {actual}\")\n",
        "print(f\"Predict ed: {predicted}\")"
      ],
      "metadata": {
        "colab": {
          "base_uri": "https://localhost:8080/"
        },
        "id": "pK3CgP_cQlzK",
        "outputId": "0cccb874-f7eb-4a74-b345-3aa9dab12e69"
      },
      "execution_count": 27,
      "outputs": [
        {
          "output_type": "stream",
          "name": "stdout",
          "text": [
            "Actual: [4 5 0 3 0 5 3 2 1 0 1 3 5 5 5 5 3 5 0 2 4 3 0 1 5 5 4 4]\n",
            "Predict ed: [4 5 0 3 0 5 3 2 1 0 1 3 5 5 5 5 3 5 0 4 4 3 0 1 5 5 4 4]\n"
          ]
        }
      ]
    },
    {
      "cell_type": "code",
      "source": [
        "#EVALUASI MODEL\n",
        "import sklearn.metrics\n",
        "# Check the accuracy score on the test set\n",
        "print('Accuracy:', sklearn.metrics.accuracy_score(actual, predicted))\n",
        "\n",
        "# Check the precision score on the test set\n",
        "print('Precision:', sklearn.metrics.precision_score(actual, predicted, average='weighted'))\n",
        "\n",
        "# Check the recall score on the test set\n",
        "print('Recall:', sklearn.metrics.recall_score(actual, predicted, average='weighted'))\n",
        "\n",
        "# Check the f1 score on the test set\n",
        "print('F1:', sklearn.metrics.f1_score(actual, predicted, average='weighted'))"
      ],
      "metadata": {
        "colab": {
          "base_uri": "https://localhost:8080/"
        },
        "id": "plWVlb4XOad3",
        "outputId": "d9b632f9-9dae-47af-dea0-fba364747425"
      },
      "execution_count": 28,
      "outputs": [
        {
          "output_type": "stream",
          "name": "stdout",
          "text": [
            "Accuracy: 0.9642857142857143\n",
            "Precision: 0.9714285714285714\n",
            "Recall: 0.9642857142857143\n",
            "F1: 0.9603174603174603\n"
          ]
        }
      ]
    },
    {
      "cell_type": "code",
      "source": [
        "#menyimpan model\n",
        "from google.colab import files\n",
        "model.save('model.h5')"
      ],
      "metadata": {
        "id": "DF_jOtV-T2MD"
      },
      "execution_count": 31,
      "outputs": []
    }
  ]
}